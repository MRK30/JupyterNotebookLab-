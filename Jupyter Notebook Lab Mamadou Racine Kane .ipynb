{
 "cells": [
  {
   "cell_type": "markdown",
   "id": "7b9a49e3",
   "metadata": {},
   "source": [
    "# Data Science Tools and Ecosystem"
   ]
  },
  {
   "cell_type": "markdown",
   "id": "bae4b60b",
   "metadata": {},
   "source": [
    " In this notebook, Data Science Tools and ecosystem are summarized."
   ]
  },
  {
   "cell_type": "markdown",
   "id": "f7d58834",
   "metadata": {},
   "source": [
    "**Objectives:** \n",
    "    \n",
    "    -API(Application programming interface allows communicationbetween two pieces of software)\n",
    "    -Apache MLlib (Language that makes machine learning scalable)\n",
    "    -C++ (A general-purpose programming language. It is an extension of the C programming language or C with Classes)\n",
    "    -Data set (A structured collection of data)\n",
    "    - ggplot2 (A popular library for data visualization in)\n",
    "    - Jupyter Notebook (A browser-based application that allows you to createand share documents containing code, equations, visualizations, narrative text links, and more)\n",
    "    -Python (A high-level, general-purpose programming language. Ithas a large, standard library that provides tools suited to many different tasks, including Databases, Automation, Web scraping, Text processing, Image processing, Machine learning, and Data analytics)"
   ]
  },
  {
   "cell_type": "markdown",
   "id": "bf3ef9d5",
   "metadata": {},
   "source": [
    "Some of the popular Languages that Data Scientists use are: \n",
    "\n",
    "    1. Python \n",
    "    2. R Language\n",
    "    3. SQL \n",
    "    4. Scala \n",
    "    5. Java \n",
    "    6. Julia \n",
    "    7. PHP"
   ]
  },
  {
   "cell_type": "markdown",
   "id": "cd98497d",
   "metadata": {},
   "source": [
    "Some of the commonly used libraries used by Data Scientists include: \n",
    "    \n",
    "    1. Sckikit-Learn \n",
    "    2. TensorFlow\n",
    "    3. Pytorch \n",
    "    4. Keras \n",
    "    5. ApacheSpark \n",
    "    6. Vegas "
   ]
  },
  {
   "cell_type": "markdown",
   "id": "5a38d258",
   "metadata": {},
   "source": [
    "|Data Science Tools|\n",
    "|------------------|\n",
    "|My SQL|\n",
    "|ApacheAirflow|\n",
    "|ML Leap|"
   ]
  },
  {
   "cell_type": "markdown",
   "id": "f2a7808f",
   "metadata": {},
   "source": [
    "### Below are a few examples of evaluating arithmetic expressions in python "
   ]
  },
  {
   "cell_type": "markdown",
   "id": "af63894d",
   "metadata": {},
   "source": [
    "This is a smimple arithmetic expression to multiply then add integers"
   ]
  },
  {
   "cell_type": "code",
   "execution_count": 2,
   "id": "8706df3b",
   "metadata": {},
   "outputs": [
    {
     "data": {
      "text/plain": [
       "17"
      ]
     },
     "execution_count": 2,
     "metadata": {},
     "output_type": "execute_result"
    }
   ],
   "source": [
    "(3*4)+5"
   ]
  },
  {
   "cell_type": "markdown",
   "id": "09e00a9c",
   "metadata": {},
   "source": [
    "This will convert 200 minutes to hours by dividing by 60 "
   ]
  },
  {
   "cell_type": "code",
   "execution_count": 7,
   "id": "46f66a9d",
   "metadata": {},
   "outputs": [
    {
     "data": {
      "text/plain": [
       "3.3333333333333335"
      ]
     },
     "execution_count": 7,
     "metadata": {},
     "output_type": "execute_result"
    }
   ],
   "source": [
    "\n",
    "(200/60)"
   ]
  },
  {
   "cell_type": "markdown",
   "id": "d14d667f",
   "metadata": {},
   "source": [
    "## Author \n",
    "Mamadou Racine Kane "
   ]
  },
  {
   "cell_type": "code",
   "execution_count": null,
   "id": "2d0585c1",
   "metadata": {},
   "outputs": [],
   "source": []
  }
 ],
 "metadata": {
  "kernelspec": {
   "display_name": "Python 3 (ipykernel)",
   "language": "python",
   "name": "python3"
  },
  "language_info": {
   "codemirror_mode": {
    "name": "ipython",
    "version": 3
   },
   "file_extension": ".py",
   "mimetype": "text/x-python",
   "name": "python",
   "nbconvert_exporter": "python",
   "pygments_lexer": "ipython3",
   "version": "3.10.10"
  }
 },
 "nbformat": 4,
 "nbformat_minor": 5
}
